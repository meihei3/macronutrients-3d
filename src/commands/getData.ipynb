{
 "cells": [
  {
   "cell_type": "code",
   "execution_count": 1,
   "metadata": {},
   "outputs": [],
   "source": [
    "import os"
   ]
  },
  {
   "cell_type": "code",
   "execution_count": 2,
   "metadata": {},
   "outputs": [],
   "source": [
    "os.makedirs(f'../../dist/data', exist_ok=True)\n",
    "os.makedirs(f'../../dist/data-min', exist_ok=True)"
   ]
  },
  {
   "cell_type": "code",
   "execution_count": 3,
   "metadata": {},
   "outputs": [],
   "source": [
    "import requests\n",
    "import json\n",
    "from tqdm import tqdm"
   ]
  },
  {
   "cell_type": "code",
   "execution_count": 4,
   "metadata": {},
   "outputs": [],
   "source": [
    "url = 'https://github.com/katoharu432/standards-tables-of-food-composition-in-japan/raw/master/data.json'\n",
    "res = requests.get(url)\n",
    "res.encoding = res.apparent_encoding\n",
    "data = res.json()"
   ]
  },
  {
   "cell_type": "code",
   "execution_count": 5,
   "metadata": {},
   "outputs": [
    {
     "name": "stderr",
     "output_type": "stream",
     "text": [
      "100%|██████████| 18/18 [00:00<00:00, 26.23it/s]\n"
     ]
    }
   ],
   "source": [
    "def minify(d):\n",
    "    # 現状表示に必要なものだけを置いておく。\n",
    "    return {\n",
    "        'foodId': d['foodId'],\n",
    "        'foodName': d['foodName'],\n",
    "        'chocdf': d['chocdf'],\n",
    "        'prot': d['prot'],\n",
    "        'fat': d['fat'],\n",
    "    }\n",
    "\n",
    "for i in tqdm(range(1, 19)):\n",
    "    with open(f'../../dist/data/group{i}.json', 'w') as f:\n",
    "        out = [d for d in data if d['groupId'] == i]\n",
    "        json.dump(out, f, indent=4, ensure_ascii=False)\n",
    "        \n",
    "    with open(f'../../dist/data-min/group{i}.json', 'w') as f:\n",
    "        out = [minify(d) for d in data if d['groupId'] == i]\n",
    "        json.dump(out, f, ensure_ascii=False, separators=(',', ':'))"
   ]
  },
  {
   "cell_type": "code",
   "execution_count": null,
   "metadata": {},
   "outputs": [],
   "source": []
  }
 ],
 "metadata": {
  "kernelspec": {
   "display_name": "Python 3",
   "language": "python",
   "name": "python3"
  },
  "language_info": {
   "codemirror_mode": {
    "name": "ipython",
    "version": 3
   },
   "file_extension": ".py",
   "mimetype": "text/x-python",
   "name": "python",
   "nbconvert_exporter": "python",
   "pygments_lexer": "ipython3",
   "version": "3.6.2"
  }
 },
 "nbformat": 4,
 "nbformat_minor": 2
}
