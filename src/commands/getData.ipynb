{
 "cells": [
  {
   "cell_type": "code",
   "execution_count": 1,
   "metadata": {},
   "outputs": [],
   "source": [
    "import requests\n",
    "from bs4 import BeautifulSoup"
   ]
  },
  {
   "cell_type": "code",
   "execution_count": 15,
   "metadata": {},
   "outputs": [],
   "source": [
    "base_url = 'https://www.sej.co.jp'\n",
    "url = base_url + '/products/a/cat/010010010000000/1/l100/'\n",
    "res = requests.get(url)"
   ]
  },
  {
   "cell_type": "code",
   "execution_count": 16,
   "metadata": {},
   "outputs": [],
   "source": [
    "soup = BeautifulSoup(res.text)"
   ]
  },
  {
   "cell_type": "code",
   "execution_count": 17,
   "metadata": {},
   "outputs": [
    {
     "name": "stdout",
     "output_type": "stream",
     "text": [
      "/products/a/item/044136/\n",
      "/products/a/item/041281/\n",
      "/products/a/item/041223/\n",
      "/products/a/item/040262/\n",
      "/products/a/item/040259/\n",
      "/products/a/item/040360/\n",
      "/products/a/item/046731/\n",
      "/products/a/item/042610/\n",
      "/products/a/item/040175/\n",
      "/products/a/item/045145/\n",
      "/products/a/item/045497/\n",
      "/products/a/item/046729/\n",
      "/products/a/item/046727/\n",
      "/products/a/item/046726/\n",
      "/products/a/item/046719/\n",
      "/products/a/item/046717/\n",
      "/products/a/item/046716/\n",
      "/products/a/item/046714/\n",
      "/products/a/item/046707/\n",
      "/products/a/item/046654/\n",
      "/products/a/item/042243/\n",
      "/products/a/item/040882/\n",
      "/products/a/item/041408/\n",
      "/products/a/item/042670/\n",
      "/products/a/item/044000/\n",
      "/products/a/item/043873/\n",
      "/products/a/item/043849/\n",
      "/products/a/item/043698/\n",
      "/products/a/item/043479/\n",
      "/products/a/item/043428/\n",
      "/products/a/item/043391/\n",
      "/products/a/item/043308/\n",
      "/products/a/item/043116/\n",
      "/products/a/item/042871/\n",
      "/products/a/item/042661/\n",
      "/products/a/item/042499/\n",
      "/products/a/item/040037/\n",
      "/products/a/item/042068/\n",
      "/products/a/item/042066/\n",
      "/products/a/item/041938/\n",
      "/products/a/item/041409/\n",
      "/products/a/item/040024/\n",
      "/products/a/item/040781/\n",
      "/products/a/item/047630/\n",
      "/products/a/item/045484/\n",
      "/products/a/item/047017/\n",
      "/products/a/item/040244/\n",
      "/products/a/item/042721/\n",
      "/products/a/item/046706/\n",
      "/products/a/item/045831/\n",
      "/products/a/item/044206/\n",
      "/products/a/item/044590/\n",
      "/products/a/item/040524/\n",
      "/products/a/item/043617/\n",
      "/products/a/item/043563/\n",
      "/products/a/item/040408/\n",
      "/products/a/item/045768/\n"
     ]
    }
   ],
   "source": [
    "for figure in soup.find_all('figure'):\n",
    "    print(figure.find('a').get('href'))"
   ]
  },
  {
   "cell_type": "code",
   "execution_count": null,
   "metadata": {},
   "outputs": [],
   "source": []
  }
 ],
 "metadata": {
  "kernelspec": {
   "display_name": "Python 3",
   "language": "python",
   "name": "python3"
  },
  "language_info": {
   "codemirror_mode": {
    "name": "ipython",
    "version": 3
   },
   "file_extension": ".py",
   "mimetype": "text/x-python",
   "name": "python",
   "nbconvert_exporter": "python",
   "pygments_lexer": "ipython3",
   "version": "3.6.2"
  }
 },
 "nbformat": 4,
 "nbformat_minor": 2
}
